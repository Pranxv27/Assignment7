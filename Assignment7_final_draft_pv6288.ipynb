{
 "cells": [
  {
   "cell_type": "markdown",
   "id": "c21873f0",
   "metadata": {},
   "source": [
    "# Overview"
   ]
  },
  {
   "cell_type": "markdown",
   "id": "f377b515",
   "metadata": {},
   "source": [
    "For this Data curation and Analysis, I decided to go with the top 100 ranked companies and decided to investigate what kind of relation rank hold in regard to monthly revenue. I obtained my data from the following link: https://eqvista.com/fortune-500-companies-in-the-us/ ."
   ]
  },
  {
   "cell_type": "markdown",
   "id": "a9be2a15",
   "metadata": {},
   "source": [
    "# Importing libraries"
   ]
  },
  {
   "cell_type": "markdown",
   "id": "fb8df791",
   "metadata": {},
   "source": [
    "Here we try to import certain libraries an install them if they are not installed them already."
   ]
  },
  {
   "cell_type": "code",
   "execution_count": 108,
   "id": "0899ad33",
   "metadata": {},
   "outputs": [
    {
     "name": "stdout",
     "output_type": "stream",
     "text": [
      "BeautifulSoup and Pandas are already installed and imported\n"
     ]
    }
   ],
   "source": [
    "\n",
    "try:\n",
    "    from bs4 import BeautifulSoup\n",
    "    import pandas as pd\n",
    "    import numpy as np\n",
    "    import scipy\n",
    "    from matplotlib import pyplot as plt\n",
    "    print (\"BeautifulSoup and Pandas are already installed and imported\")\n",
    "except:\n",
    "    import sys\n",
    "    !conda install --yes --prefix {sys.prefix} bs4\n",
    "    !conda install --yes --prefix {sys.prefix} pandas\n",
    "    !conda install --yes --prefix {sys.prefix} numpy\n",
    "    !conda install --yes --prefix {sys.prefix} matplotlib\n",
    "    !conda install --yes --prefix {sys.prefix} scipy\n",
    "    from bs4 import BeautifulSoup\n",
    "    import pandas\n",
    "    print (\"BeautifulSoup and Pandas were not found. Installed them and imported\")\n",
    "\n",
    "import requests\n",
    "import re\n"
   ]
  },
  {
   "cell_type": "markdown",
   "id": "077fcbd8",
   "metadata": {},
   "source": [
    "# 2. Read the webpage and parse it with BeautifulSoup"
   ]
  },
  {
   "cell_type": "code",
   "execution_count": 109,
   "id": "f9e243a2",
   "metadata": {},
   "outputs": [
    {
     "name": "stdout",
     "output_type": "stream",
     "text": [
      "Webpage opened successfully...\n",
      "Webpage loaded and parsed successfully...\n"
     ]
    }
   ],
   "source": [
    "opened_webpage = requests.get(\"https://eqvista.com/fortune-500-companies-in-the-us/\")\n",
    "print (\"Webpage opened successfully...\")\n",
    "\n",
    "# Initialize a BeautifulSoup object to read and parse the webpage read\n",
    "# This is like calling the __init__ function in BeautifulSoup\n",
    "bs = BeautifulSoup(opened_webpage.content, \"html.parser\")\n",
    "print (\"Webpage loaded and parsed successfully...\")\n",
    "raw_data = []"
   ]
  },
  {
   "cell_type": "markdown",
   "id": "e1399fbe",
   "metadata": {},
   "source": [
    "# 3. Extaction"
   ]
  },
  {
   "cell_type": "markdown",
   "id": "42d9b735",
   "metadata": {},
   "source": [
    "Extracting data of our interest from the webpage by searching for any tables in it. Creating a new list raw_data and appending each row of the extracted raw data to it."
   ]
  },
  {
   "cell_type": "code",
   "execution_count": 110,
   "id": "d9812e34",
   "metadata": {},
   "outputs": [
    {
     "name": "stdout",
     "output_type": "stream",
     "text": [
      "[\"\\n\\n\\nRankCompanyRevenue($M)Market ValueEmployees\\n\\n\\n\\n\\n1Walmart$559,151 $382,643 2300000\\n\\n\\n2Amazon$386,064 $1,558,070 1298000\\n\\n\\n3Apple$274,515 $2,050,666 147000\\n\\n\\n4CVS Health$268,706 $98,653 256500\\n\\n\\n5UnitedHealth Group$257,141 $351,725 330000\\n\\n\\n6Berkshire Hathaway$245,510 $587,823 360000\\n\\n\\n7McKesson$231,051 $31,044 70000\\n\\n\\n8AmerisourceBergen$189,894 $24,170 21500\\n\\n\\n9Alphabet$182,527 $1,392,562 135301\\n\\n\\n10Exxon Mobil$181,502 $236,355 72000\\n\\n\\n11AT&T$171,760 $215,879 230760\\n\\n\\n12Costco Wholesale$166,761 $155,984 214500\\n\\n\\n13Cigna$160,401 $83,976 72963\\n\\n\\n14Cardinal Health$152,922 $17,840 48000\\n\\n\\n15Microsoft$143,015 $1,778,228 163000\\n\\n\\n16Walgreens Boots Alliance$139,537 $47,455 277000\\n\\n\\n17Kroger$132,498 $27,064 465000\\n\\n\\n18Home Depot$132,110 $328,775 504800\\n\\n\\n19JPMorgan Chase$129,503 $464,531 255351\\n\\n\\n20Verizon Communications$128,292 $240,633 132200\\n\\n\\n21Ford Motor$127,144 $48,739 186000\\n\\n\\n22General Motors$122,485 $82,795 155000\\n\\n\\n23Anthem$121,867 $87,909 83400\\n\\n\\n24Centene$111,115 $37,170 71300\\n\\n\\n25Fannie Mae$106,437 $2,397 7700\\n\\n\\n26Comcast$103,564 $247,859 168000\\n\\n\\n27Chevron$94,692 $201,865 47736\\n\\n\\n28Dell Technologies$94,224 $67,229 158000\\n\\n\\n29Bank of America$93,753 $333,788 212505\\n\\n\\n30Target$93,561 $98,761 409000\\n\\n\\n31Lowe's$89,597 $136,408 280000\\n\\n\\n32Marathon Petroleum$88,952 $34,874 57900\\n\\n\\n33Citigroup$88,839 $151,806 210153\\n\\n\\n34Meta Platforms$85,965 $838,724 58604\\n\\n\\n35UPS$84,628 $147,792 408255\\n\\n\\n36Johnson & Johnson$82,584 $432,685 134500\\n\\n\\n37Wells Fargo$80,303 $161,521 268531\\n\\n\\n38General Electric$79,619 $115,343 184000\\n\\n\\n39State Farm Insurance$78,898 -57582\\n\\n\\n40Intel$77,867 $260,630 110600\\n\\n\\n41Humana$77,155 $54,088 48700\\n\\n\\n42IBM$73,620 $119,080 364800\\n\\n\\n43Procter & Gamble$70,950 $333,493 99000\\n\\n\\n44PepsiCo$70,372 $195,208 291000\\n\\n\\n45FedEx$69,217 $75,368 418000\\n\\n\\n46MetLife$67,842 $53,763 46500\\n\\n\\n47Freddie Mac$66,228 $1,333 6922\\n\\n\\n48Phillips 66$65,494 $35,704 14300\\n\\n\\n49Lockheed Martin$65,398 $102,984 114000\\n\\n\\n50Walt Disney$65,388 $334,953 203000\\n\\n\\n51Archer Daniels Midland$64,355 $31,835 38332\\n\\n\\n52Albertsons$62,455 $8,878 270000\\n\\n\\n53Valero Energy$60,115 $29,267 9964\\n\\n\\n54Boeing$58,158 $148,665 141000\\n\\n\\n55Prudential Financial (U.S.)$57,033 $36,022 41671\\n\\n\\n56HP$56,639 $39,580 53000\\n\\n\\n57Raytheon Technologies$56,587 $117,144 181000\\n\\n\\n58StoneX$54,140 $1,284 2950\\n\\n\\n59Goldman Sachs Group$53,498 $116,903 40500\\n\\n\\n60Sysco$52,893 $40,190 57000\\n\\n\\n61Morgan Stanley$52,047 $146,162 68097\\n\\n\\n62HCA Healthcare$51,533 $63,459 235000\\n\\n\\n63Cisco Systems$49,301 $218,309 77500\\n\\n\\n64Charter Communications$48,097 $128,966 96100\\n\\n\\n65Merck$47,994 $195,062 73500\\n\\n\\n66Best Buy$47,262 $28,708 81600\\n\\n\\n67New York Life Insurance$46,712 -11506\\n\\n\\n68AbbVie$45,804 $190,989 47000\\n\\n\\n69Publix Super Markets$45,204 -227000\\n\\n\\n70Allstate$44,791 $34,800 42010\\n\\n\\n71Liberty Mutual Insurance Group$43,796 -45000\\n\\n\\n72American International Group$43,736 $39,849 45000\\n\\n\\n73Tyson Foods$43,185 $27,100 139000\\n\\n\\n74Progressive$42,658 $55,947 43326\\n\\n\\n75Bristol-Myers Squibb$42,518 $141,028 30250\\n\\n\\n76Nationwide$41,930 -25391\\n\\n\\n77Pfizer$41,908 $202,097 78500\\n\\n\\n78Caterpillar$41,748 $126,440 97300\\n\\n\\n79TIAA$41,619 -14953\\n\\n\\n80Oracle$39,068 $202,338 135000\\n\\n\\n81Energy Transfer$38,954 $20,755 11421\\n\\n\\n82Dow$38,542 $47,650 35700\\n\\n\\n83American Express$38,185 $113,636 63700\\n\\n\\n84General Dynamics$37,925 $51,482 100700\\n\\n\\n85Nike$37,403 $209,500 75400\\n\\n\\n86Northrop Grumman$36,799 $53,957 97000\\n\\n\\n87USAA$36,296 -35935\\n\\n\\n88Deere$35,540 $117,270 69634\\n\\n\\n89Abbott Laboratories$34,608 $212,300 109000\\n\\n\\n90Northwestern Mutual$33,782 -6641\\n\\n\\n91Dollar General$33,747 $48,480 158000\\n\\n\\n92Exelon$33,039 $42,724 32340\\n\\n\\n93Coca-Cola$33,014 $227,144 80300\\n\\n\\n94Honeywell International$32,637 $150,972 103000\\n\\n\\n95Thermo Fisher Scientific$32,218 $179,719 84362\\n\\n\\n963M$32,184 $111,642 94987\\n\\n\\n97TJX$32,137 $79,775 320000\\n\\n\\n98Travelers Cos.$31,981 $37,933 30294\\n\\n\\n99Capital One Financial$31,643 $58,097 51985\\n\\n\\n100Tesla$31,536 $641,115 70757\\n\\n\\n\"]\n"
     ]
    }
   ],
   "source": [
    "raw_data = []\n",
    "\n",
    "# Find all the tables in the webpage page that we have just parsed\n",
    "table = bs.find_all(\"table\")\n",
    "\n",
    "for row in table:\n",
    "    line = row.text\n",
    "    raw_data.append(line)\n",
    "    \n",
    "print(raw_data)"
   ]
  },
  {
   "cell_type": "markdown",
   "id": "c2cdd8ed",
   "metadata": {},
   "source": [
    "# Tranformation"
   ]
  },
  {
   "cell_type": "markdown",
   "id": "4e210adb",
   "metadata": {},
   "source": [
    "Here we are transforming the raw data into something we can use further. We remove all the '$' and ',' that are in the numbers and convert them to integers so the can be used for analysis in later steps. The primary purpose of this part of the code is to clean it a make it more organized, using pattern recognition.Also, to change the type of certain elements so they can be used for analysis. Here we can see that the 95th index has been edited manually. This had to be done manully as the pattern in parse_string function recognized the 3 in '3M' as part of the rank\n"
   ]
  },
  {
   "cell_type": "code",
   "execution_count": 114,
   "id": "68072a70",
   "metadata": {},
   "outputs": [
    {
     "name": "stdout",
     "output_type": "stream",
     "text": [
      "[[1, 'Walmart', 559151, 382643, 2300000], [2, 'Amazon', 386064, 1558070, 1298000], [3, 'Apple', 274515, 2050666, 147000], [4, 'CVS Health', 268706, 98653, 256500], [5, 'UnitedHealth Group', 257141, 351725, 330000], [6, 'Berkshire Hathaway', 245510, 587823, 360000], [7, 'McKesson', 231051, 31044, 70000], [8, 'AmerisourceBergen', 189894, 24170, 21500], [9, 'Alphabet', 182527, 1392562, 135301], [10, 'Exxon Mobil', 181502, 236355, 72000], [11, 'ATandT', 171760, 215879, 230760], [12, 'Costco Wholesale', 166761, 155984, 214500], [13, 'Cigna', 160401, 83976, 72963], [14, 'Cardinal Health', 152922, 17840, 48000], [15, 'Microsoft', 143015, 1778228, 163000], [16, 'Walgreens Boots Alliance', 139537, 47455, 277000], [17, 'Kroger', 132498, 27064, 465000], [18, 'Home Depot', 132110, 328775, 504800], [19, 'JPMorgan Chase', 129503, 464531, 255351], [20, 'Verizon Communications', 128292, 240633, 132200], [21, 'Ford Motor', 127144, 48739, 186000], [22, 'General Motors', 122485, 82795, 155000], [23, 'Anthem', 121867, 87909, 83400], [24, 'Centene', 111115, 37170, 71300], [25, 'Fannie Mae', 106437, 2397, 7700], [26, 'Comcast', 103564, 247859, 168000], [27, 'Chevron', 94692, 201865, 47736], [28, 'Dell Technologies', 94224, 67229, 158000], [29, 'Bank of America', 93753, 333788, 212505], [30, 'Target', 93561, 98761, 409000], [31, 'Lowes', 89597, 136408, 280000], [32, 'Marathon Petroleum', 88952, 34874, 57900], [33, 'Citigroup', 88839, 151806, 210153], [34, 'Meta Platforms', 85965, 838724, 58604], [35, 'UPS', 84628, 147792, 408255], [36, 'Johnson and Johnson', 82584, 432685, 134500], [37, 'Wells Fargo', 80303, 161521, 268531], [38, 'General Electric', 79619, 115343, 184000], [39, 'State Farm Insurance', 78898, 0, 57582], [40, 'Intel', 77867, 260630, 110600], [41, 'Humana', 77155, 54088, 48700], [42, 'IBM', 73620, 119080, 364800], [43, 'Procter and Gamble', 70950, 333493, 99000], [44, 'PepsiCo', 70372, 195208, 291000], [45, 'FedEx', 69217, 75368, 418000], [46, 'MetLife', 67842, 53763, 46500], [47, 'Freddie Mac', 66228, 1333, 6922], [48, 'Phillips 66', 65494, 35704, 14300], [49, 'Lockheed Martin', 65398, 102984, 114000], [50, 'Walt Disney', 65388, 334953, 203000], [51, 'Archer Daniels Midland', 64355, 31835, 38332], [52, 'Albertsons', 62455, 8878, 270000], [53, 'Valero Energy', 60115, 29267, 9964], [54, 'Boeing', 58158, 148665, 141000], [55, 'Prudential Financial US', 57033, 36022, 41671], [56, 'HP', 56639, 39580, 53000], [57, 'Raytheon Technologies', 56587, 117144, 181000], [58, 'StoneX', 54140, 1284, 2950], [59, 'Goldman Sachs Group', 53498, 116903, 40500], [60, 'Sysco', 52893, 40190, 57000], [61, 'Morgan Stanley', 52047, 146162, 68097], [62, 'HCA Healthcare', 51533, 63459, 235000], [63, 'Cisco Systems', 49301, 218309, 77500], [64, 'Charter Communications', 48097, 128966, 96100], [65, 'Merck', 47994, 195062, 73500], [66, 'Best Buy', 47262, 28708, 81600], [67, 'New York Life Insurance', 46712, 0, 11506], [68, 'AbbVie', 45804, 190989, 47000], [69, 'Publix Super Markets', 45204, 0, 227000], [70, 'Allstate', 44791, 34800, 42010], [71, 'Liberty Mutual Insurance Group', 43796, 0, 45000], [72, 'American International Group', 43736, 39849, 45000], [73, 'Tyson Foods', 43185, 27100, 139000], [74, 'Progressive', 42658, 55947, 43326], [75, 'BristolMyers Squibb', 42518, 141028, 30250], [76, 'Nationwide', 41930, 0, 25391], [77, 'Pfizer', 41908, 202097, 78500], [78, 'Caterpillar', 41748, 126440, 97300], [79, 'TIAA', 41619, 0, 14953], [80, 'Oracle', 39068, 202338, 135000], [81, 'Energy Transfer', 38954, 20755, 11421], [82, 'Dow', 38542, 47650, 35700], [83, 'American Express', 38185, 113636, 63700], [84, 'General Dynamics', 37925, 51482, 100700], [85, 'Nike', 37403, 209500, 75400], [86, 'Northrop Grumman', 36799, 53957, 97000], [87, 'USAA', 36296, 0, 35935], [88, 'Deere', 35540, 117270, 69634], [89, 'Abbott Laboratories', 34608, 212300, 109000], [90, 'Northwestern Mutual', 33782, 0, 6641], [91, 'Dollar General', 33747, 48480, 158000], [92, 'Exelon', 33039, 42724, 32340], [93, 'CocaCola', 33014, 227144, 80300], [94, 'Honeywell International', 32637, 150972, 103000], [95, 'Thermo Fisher Scientific', 32218, 179719, 84362], [96, '3M', 32184, 111642, 94987], [97, 'TJX', 32137, 79775, 320000], [98, 'Travelers Cos', 31981, 37933, 30294], [99, 'Capital One Financial', 31643, 58097, 51985], [100, 'Tesla', 31536, 641115, 70757]]\n"
     ]
    }
   ],
   "source": [
    "def parse_string(string):\n",
    "    results = []\n",
    "    for string in strings:\n",
    "        string = string.replace(\"&\",\"and\")\n",
    "        string = string.replace(\"'\",\"\")\n",
    "        string = string.replace(\"-\",\"\")\n",
    "        string = string.replace(\".\",\"\")\n",
    "        string = string.replace(\"(\",\"\").replace(\")\",\"\")\n",
    "\n",
    "        groups = re.match(r'(\\d+)([A-Za-z]+\\s*[A-Za-z]*\\s*[A-Za-z]*\\s*[A-Za-z]*\\d*)(\\$[\\d,]+)\\s(\\$[\\d,]+)\\s(\\d+)', string)\n",
    "        if groups:\n",
    "            results.append([groups.group(1), groups.group(2), groups.group(3), groups.group(4), groups.group(5)])\n",
    "        else:\n",
    "# where one value is missing\n",
    "# example Northwestern Mutual$33,782 06641\n",
    "            groups = re.match(r'(\\d+)([A-Za-z]+\\s*[A-Za-z]*\\s*[A-Za-z]*\\s*[A-Za-z]*\\d*)(\\$[\\d,]+)\\s(\\d+)',string)\n",
    "            if groups:\n",
    "                results.append([groups.group(1), groups.group(2), groups.group(3),\"0\", groups.group(4)])\n",
    "    return results\n",
    "\n",
    "for l in raw_data:\n",
    "    data = l.split(\"\\n\")\n",
    "\n",
    "i= ''\n",
    "while i in data:\n",
    "    data.remove(i)\n",
    "strings= data\n",
    "results = parse_string(strings)\n",
    "\n",
    "\n",
    "for i in range(len(results)):\n",
    "    for j in range(len(results[i])):\n",
    "        if results[i][j][0] == '$':\n",
    "            results[i][j] = int(results[i][j].replace('$', '').replace(',', ''))\n",
    "        elif results[i][j].isdigit():\n",
    "            results[i][j] = int(results[i][j])\n",
    " \n",
    "# Had to do this manully as the pattern in parse_string function recognized the 3 in '3M' as part of the rank\n",
    "results[95]=[96, '3M', 32184, 111642, 94987]\n",
    "print(results)\n"
   ]
  },
  {
   "cell_type": "markdown",
   "id": "3a0d6192",
   "metadata": {},
   "source": [
    "#### Convert to DataFrame\n",
    "Pandas is a powerful tool for data analysis and manipulation that provides a convenient and flexible way to store and organize data. One of the key data structures in Pandas is the DataFrame, which can be thought of as a table-like structure with rows and columns. Using Pandas, data can be transformed and organized into a DataFrame quickly and efficiently. Here we are going to convert our tranformed data into a DataFrame based some pre-defined column names. Here we also check for and remove, duplicates and null entries. At the end of this code we can see the DataFrame \"final_data\" as a CSV file called \"top_100_companies.csv\"."
   ]
  },
  {
   "cell_type": "code",
   "execution_count": 117,
   "id": "c65c41a9",
   "metadata": {},
   "outputs": [
    {
     "name": "stdout",
     "output_type": "stream",
     "text": [
      " Number of duplicates before : 0\n",
      " Number of duplicates after removing : 0\n",
      "   Rank             Company  Revenue  Market Value  Employees\n",
      "0     1             Walmart   559151        382643    2300000\n",
      "1     2              Amazon   386064       1558070    1298000\n",
      "2     3               Apple   274515       2050666     147000\n",
      "3     4          CVS Health   268706         98653     256500\n",
      "4     5  UnitedHealth Group   257141        351725     330000\n",
      "<class 'pandas.core.frame.DataFrame'>\n",
      "Int64Index: 100 entries, 0 to 99\n",
      "Data columns (total 5 columns):\n",
      " #   Column        Non-Null Count  Dtype \n",
      "---  ------        --------------  ----- \n",
      " 0   Rank          100 non-null    int64 \n",
      " 1   Company       100 non-null    object\n",
      " 2   Revenue       100 non-null    int64 \n",
      " 3   Market Value  100 non-null    int64 \n",
      " 4   Employees     100 non-null    int64 \n",
      "dtypes: int64(4), object(1)\n",
      "memory usage: 4.7+ KB\n",
      "<class 'pandas.core.frame.DataFrame'>\n",
      "Int64Index: 100 entries, 0 to 99\n",
      "Data columns (total 5 columns):\n",
      " #   Column        Non-Null Count  Dtype \n",
      "---  ------        --------------  ----- \n",
      " 0   Rank          100 non-null    int64 \n",
      " 1   Company       100 non-null    object\n",
      " 2   Revenue       100 non-null    int64 \n",
      " 3   Market Value  100 non-null    int64 \n",
      " 4   Employees     100 non-null    int64 \n",
      "dtypes: int64(4), object(1)\n",
      "memory usage: 4.7+ KB\n"
     ]
    }
   ],
   "source": [
    "\n",
    "column_names = [\"Rank\", \"Company\",\"Revenue\",\"Market Value\",\"Employees\"]\n",
    "final_data = pandas.DataFrame(results, columns = column_names)\n",
    "number_of_duplicates = final_data.duplicated().sum()\n",
    "print (f\" Number of duplicates before : {number_of_duplicates}\")\n",
    "\n",
    "# Delete duplicate rows\n",
    "final_data = final_data.drop_duplicates()\n",
    "\n",
    "number_of_duplicates = final_data.duplicated().sum()\n",
    "print (f\" Number of duplicates after removing : {number_of_duplicates}\")\n",
    "\n",
    "# Print a few elements in the dataframe\n",
    "print(final_data.head())\n",
    "final_data.info()\n",
    "final_data = final_data.dropna()\n",
    "final_data.info()\n",
    "final_data.to_csv(\"top_100_companies.csv\")"
   ]
  },
  {
   "cell_type": "markdown",
   "id": "934aa262",
   "metadata": {},
   "source": [
    "# Loading "
   ]
  },
  {
   "cell_type": "markdown",
   "id": "38575da1",
   "metadata": {},
   "source": [
    "By importing the InteractiveShell module from the IPython core library and setting the ast_node_interactivity parameter to \"all\", we can see all output in the interactive shell. We are then using the Pandas library to read a CSV file called \"top_100_companies.csv\" into a DataFrame named \"compainies_df\". Finally, we are calling the info() method on the DataFrame to display a summary of its structure and contents."
   ]
  },
  {
   "cell_type": "code",
   "execution_count": 118,
   "id": "cb6c24de",
   "metadata": {},
   "outputs": [
    {
     "name": "stdout",
     "output_type": "stream",
     "text": [
      "<class 'pandas.core.frame.DataFrame'>\n",
      "RangeIndex: 100 entries, 0 to 99\n",
      "Data columns (total 6 columns):\n",
      " #   Column        Non-Null Count  Dtype \n",
      "---  ------        --------------  ----- \n",
      " 0   Unnamed: 0    100 non-null    int64 \n",
      " 1   Rank          100 non-null    int64 \n",
      " 2   Company       100 non-null    object\n",
      " 3   Revenue       100 non-null    int64 \n",
      " 4   Market Value  100 non-null    int64 \n",
      " 5   Employees     100 non-null    int64 \n",
      "dtypes: int64(5), object(1)\n",
      "memory usage: 4.8+ KB\n"
     ]
    }
   ],
   "source": [
    "from IPython.core.interactiveshell import InteractiveShell\n",
    "InteractiveShell.ast_node_interactivity = \"all\"\n",
    "\n",
    "compainies_df = pd.read_csv(\"top_100_companies.csv\")\n",
    "\n",
    "compainies_df.info()"
   ]
  },
  {
   "cell_type": "markdown",
   "id": "706f6e34",
   "metadata": {},
   "source": [
    "# Desciptive statistics"
   ]
  },
  {
   "cell_type": "markdown",
   "id": "36391507",
   "metadata": {},
   "source": [
    "This code creates two new variables named \"rank\" and \"revenue\" by selecting the \"Rank\" and \"Revenue\" columns respectively from the DataFrame \"compainies_df\". You can then use the describe() method on the \"revenue\" variable to show summary statistics, such as the count, mean, standard deviation, minimum, and maximum values of the \"Revenue\" column."
   ]
  },
  {
   "cell_type": "code",
   "execution_count": 119,
   "id": "aae18ab5",
   "metadata": {},
   "outputs": [
    {
     "data": {
      "text/plain": [
       "count       100.000000\n",
       "mean      89995.720000\n",
       "std       79663.375318\n",
       "min       31536.000000\n",
       "25%       42371.000000\n",
       "50%       64871.500000\n",
       "75%      104282.250000\n",
       "max      559151.000000\n",
       "Name: Revenue, dtype: float64"
      ]
     },
     "execution_count": 119,
     "metadata": {},
     "output_type": "execute_result"
    }
   ],
   "source": [
    "rank = compainies_df[\"Rank\"]\n",
    "revenue = compainies_df[\"Revenue\"]\n",
    "revenue.describe()\n"
   ]
  },
  {
   "cell_type": "markdown",
   "id": "760e3dfb",
   "metadata": {},
   "source": [
    "# Graphing/Plotting"
   ]
  },
  {
   "cell_type": "markdown",
   "id": "223afb45",
   "metadata": {},
   "source": [
    "This code is using the Matplotlib library to create a scatter plot of the \"Rank\" and \"Revenue\" variables that were created earlier from the DataFrame \"compainies_df\". The plt.xlim() method is used to set the x-axis limits to a range of 0 to 100, and the plt.scatter() method is used to create the scatter plot with markers in the shape of stars. Finally, plt.xlabel(), plt.ylabel(), and plt.title() methods are used to label the x-axis, y-axis, and title of the plot respectively. Here we can see as the rank increases the monthly revenue decreasing, indicating that the have a negative correlation."
   ]
  },
  {
   "cell_type": "code",
   "execution_count": 120,
   "id": "7745f4b7",
   "metadata": {},
   "outputs": [
    {
     "data": {
      "text/plain": [
       "(0.0, 100.0)"
      ]
     },
     "execution_count": 120,
     "metadata": {},
     "output_type": "execute_result"
    },
    {
     "data": {
      "text/plain": [
       "<matplotlib.collections.PathCollection at 0x7fa7d849f640>"
      ]
     },
     "execution_count": 120,
     "metadata": {},
     "output_type": "execute_result"
    },
    {
     "data": {
      "text/plain": [
       "Text(0.5, 0, 'Rank')"
      ]
     },
     "execution_count": 120,
     "metadata": {},
     "output_type": "execute_result"
    },
    {
     "data": {
      "text/plain": [
       "Text(0, 0.5, 'Montly Revenue')"
      ]
     },
     "execution_count": 120,
     "metadata": {},
     "output_type": "execute_result"
    },
    {
     "data": {
      "text/plain": [
       "Text(0.5, 1.0, 'Rank vs revenue')"
      ]
     },
     "execution_count": 120,
     "metadata": {},
     "output_type": "execute_result"
    },
    {
     "data": {
      "image/png": "[encoded data removed]",
      "text/plain": [
       "<Figure size 432x288 with 1 Axes>"
      ]
     },
     "metadata": {
      "needs_background": "light"
     },
     "output_type": "display_data"
    }
   ],
   "source": [
    "\n",
    "plt.xlim([0, 100])\n",
    "plt.scatter(rank,revenue, marker=\"*\")\n",
    "\n",
    "plt.xlabel(\"Rank\")\n",
    "plt.ylabel(\"Montly Revenue\")\n",
    "\n",
    "# We can add a title too\n",
    "plt.title(\"Rank vs revenue\")"
   ]
  },
  {
   "cell_type": "markdown",
   "id": "4ab675f1",
   "metadata": {},
   "source": [
    "# Box plot"
   ]
  },
  {
   "cell_type": "markdown",
   "id": "0614b9e9",
   "metadata": {},
   "source": [
    "Form this boxplot we can tell that majority of the top 100 ranked companies acquired a monthly revenues below $200,000. There appear to be a quite a few outliers. Given the strong negative correclation that we saw in the scatter plot above, we can resonably infer that all the outliers are ranked higer that the companies that are represented between max and min of the boxplot."
   ]
  },
  {
   "cell_type": "code",
   "execution_count": 121,
   "id": "ab794f60",
   "metadata": {},
   "outputs": [
    {
     "data": {
      "text/plain": [
       "{'whiskers': [<matplotlib.lines.Line2D at 0x7fa80b29de50>,\n",
       "  <matplotlib.lines.Line2D at 0x7fa80b2af160>],\n",
       " 'caps': [<matplotlib.lines.Line2D at 0x7fa80b2af4f0>,\n",
       "  <matplotlib.lines.Line2D at 0x7fa80b2af880>],\n",
       " 'boxes': [<matplotlib.lines.Line2D at 0x7fa80b29da00>],\n",
       " 'medians': [<matplotlib.lines.Line2D at 0x7fa80b2afc10>],\n",
       " 'fliers': [<matplotlib.lines.Line2D at 0x7fa80b2affa0>],\n",
       " 'means': []}"
      ]
     },
     "execution_count": 121,
     "metadata": {},
     "output_type": "execute_result"
    },
    {
     "data": {
      "text/plain": [
       "Text(0.5, 0, 'Revenue')"
      ]
     },
     "execution_count": 121,
     "metadata": {},
     "output_type": "execute_result"
    },
    {
     "data": {
      "text/plain": [
       "Text(0, 0.5, 'Revenue in $')"
      ]
     },
     "execution_count": 121,
     "metadata": {},
     "output_type": "execute_result"
    },
    {
     "data": {
      "image/png": "[encoded data removed]",
      "text/plain": [
       "<Figure size 432x288 with 1 Axes>"
      ]
     },
     "metadata": {
      "needs_background": "light"
     },
     "output_type": "display_data"
    }
   ],
   "source": [
    "plt.boxplot(revenue)\n",
    "\n",
    "plt.xlabel(\"Revenue\")\n",
    "plt.ylabel(\"Revenue in $\")"
   ]
  },
  {
   "cell_type": "code",
   "execution_count": null,
   "id": "f56d15f8",
   "metadata": {},
   "outputs": [],
   "source": []
  }
 ],
 "metadata": {
  "kernelspec": {
   "display_name": "Python 3 (ipykernel)",
   "language": "python",
   "name": "python3"
  },
  "language_info": {
   "codemirror_mode": {
    "name": "ipython",
    "version": 3
   },
   "file_extension": ".py",
   "mimetype": "text/x-python",
   "name": "python",
   "nbconvert_exporter": "python",
   "pygments_lexer": "ipython3",
   "version": "3.9.7"
  }
 },
 "nbformat": 4,
 "nbformat_minor": 5
}
